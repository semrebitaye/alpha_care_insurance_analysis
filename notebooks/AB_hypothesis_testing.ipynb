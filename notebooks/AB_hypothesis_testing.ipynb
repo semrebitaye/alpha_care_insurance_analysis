{
 "cells": [
  {
   "cell_type": "markdown",
   "metadata": {},
   "source": [
    "##### Import the required library and load the data"
   ]
  },
  {
   "cell_type": "code",
   "execution_count": 1,
   "metadata": {},
   "outputs": [],
   "source": [
    "# Importing necessary libraries\n",
    "import pandas as pd\n",
    "from scipy import stats\n",
    "import numpy as np\n",
    "\n",
    "# Load the data\n",
    "df = pd.read_csv('../Data/MachineLearningRating_v3.txt', sep='|', low_memory=False)"
   ]
  },
  {
   "cell_type": "markdown",
   "metadata": {},
   "source": [
    "##### Convert TotalPremium and TotalClaims to numeric"
   ]
  },
  {
   "cell_type": "code",
   "execution_count": 2,
   "metadata": {},
   "outputs": [],
   "source": [
    "df['TotalPremium'] = pd.to_numeric(df['TotalPremium'], errors='coerce')\n",
    "df['TotalClaims'] = pd.to_numeric(df['TotalClaims'], errors='coerce')"
   ]
  },
  {
   "cell_type": "markdown",
   "metadata": {},
   "source": [
    "##### Hypothesis 1: Test risk differences across provinces"
   ]
  },
  {
   "cell_type": "code",
   "execution_count": 3,
   "metadata": {},
   "outputs": [
    {
     "name": "stdout",
     "output_type": "stream",
     "text": [
      "Hypothesis 1: Test risk differences across provinces\n",
      "-----------------------------------------------------\n",
      "T-statistic: 4.6537430154774375\n",
      "P-value: 3.260368633786302e-06\n",
      "Reject Null Hypothesis: There are significant risk differences across provinces.\n"
     ]
    }
   ],
   "source": [
    "# For the purpose of hypothesis testing, let's choose 'TotalPremium' as our key performance indicator (KPI).\n",
    "\n",
    "# Let's segment the data based on the feature we want to test. \n",
    "# For example, if we want to test the impact of provinces on TotalPremium:\n",
    "# Group A (Control Group): Plans with Province = 'Gauteng'\n",
    "control_group_province = df[df['Province'] == 'Gauteng']['TotalPremium']\n",
    "# Group B (Test Group): Plans with Province = 'Western Cape'\n",
    "test_group_province = df[df['Province'] == 'Western Cape']['TotalPremium']\n",
    "\n",
    "# Perform t-test\n",
    "t_statistic, p_value = stats.ttest_ind(control_group_province, test_group_province)\n",
    "\n",
    "# Print results\n",
    "print(\"Hypothesis 1: Test risk differences across provinces\")\n",
    "print(\"-----------------------------------------------------\")\n",
    "print(f\"T-statistic: {t_statistic}\")\n",
    "print(f\"P-value: {p_value}\")\n",
    "\n",
    "# Analyze p-value\n",
    "alpha = 0.05\n",
    "if p_value < alpha:\n",
    "    print(\"Reject Null Hypothesis: There are significant risk differences across provinces.\")\n",
    "else:\n",
    "    print(\"Fail to reject Null Hypothesis: There are no significant risk differences across provinces.\")"
   ]
  },
  {
   "cell_type": "markdown",
   "metadata": {},
   "source": [
    "##### Hypothesis 2: Test risk differences across Zip Codes"
   ]
  },
  {
   "cell_type": "code",
   "execution_count": 5,
   "metadata": {},
   "outputs": [
    {
     "name": "stdout",
     "output_type": "stream",
     "text": [
      "Hypothesis 2: There are no risk differences between zip codes\n",
      "--------------------------------------------------------------\n",
      "T-statistic: nan\n",
      "P-value: nan\n",
      "Fail to reject Null Hypothesis: There are no significant risk differences between zip codes.\n"
     ]
    },
    {
     "name": "stderr",
     "output_type": "stream",
     "text": [
      "/tmp/ipykernel_38935/1069747708.py:6: SmallSampleWarning: One or more sample arguments is too small; all returned values will be NaN. See documentation for sample size requirements.\n",
      "  t_statistic, p_value = stats.ttest_ind(control_group_zipcode['TotalPremium'], test_group_zipcode['TotalPremium'])\n"
     ]
    }
   ],
   "source": [
    "control_group_zipcode = df[df['PostalCode'] == '1459']\n",
    "# Group B (Test Group): Plans with ZipCode = 'ZipCode_B'\n",
    "test_group_zipcode = df[df['PostalCode'] == '7784']\n",
    "\n",
    "# Perform t-test\n",
    "t_statistic, p_value = stats.ttest_ind(control_group_zipcode['TotalPremium'], test_group_zipcode['TotalPremium'])\n",
    "\n",
    "# Print results\n",
    "print(\"Hypothesis 2: There are no risk differences between zip codes\")\n",
    "print(\"--------------------------------------------------------------\")\n",
    "print(f\"T-statistic: {t_statistic}\")\n",
    "print(f\"P-value: {p_value}\")\n",
    "\n",
    "# Analyze p-value\n",
    "if p_value < alpha:\n",
    "    print(\"Reject Null Hypothesis: There are significant risk differences between zip codes.\")\n",
    "else:\n",
    "    print(\"Fail to reject Null Hypothesis: There are no significant risk differences between zip codes.\")"
   ]
  },
  {
   "cell_type": "markdown",
   "metadata": {},
   "source": [
    "##### Hypothesis 3: Test significant margin (profit) difference between zip codes"
   ]
  },
  {
   "cell_type": "code",
   "execution_count": 7,
   "metadata": {},
   "outputs": [
    {
     "name": "stdout",
     "output_type": "stream",
     "text": [
      "Hypothesis 3: Test significant margin (profit) difference between zip codes\n",
      "------------------------------------------------------------------------------\n",
      "T-statistic: nan\n",
      "P-value: nan\n",
      "Fail to reject Null Hypothesis: There are no significant margin (profit) differences between zip codes.\n"
     ]
    },
    {
     "name": "stderr",
     "output_type": "stream",
     "text": [
      "/tmp/ipykernel_38935/1961788394.py:13: SmallSampleWarning: One or more sample arguments is too small; all returned values will be NaN. See documentation for sample size requirements.\n",
      "  t_statistic, p_value = stats.ttest_ind(control_group_zipcode['ProfitMargin'], test_group_zipcode['ProfitMargin'])\n"
     ]
    }
   ],
   "source": [
    "# For the purpose of hypothesis testing, let's choose 'ProfitMargin' as our key performance indicator (KPI).\n",
    "df['ProfitMargin'] = df['TotalPremium'] - df['TotalClaims']\n",
    "\n",
    "# Data Segmentation\n",
    "# Let's segment the data based on the feature we want to test. \n",
    "# For example, if we want to test the impact of zip codes on ProfitMargin:\n",
    "# Group A (Control Group): Plans with ZipCode = 'ZipCode_A'\n",
    "control_group_zipcode = df[df['PostalCode'] == '1459']\n",
    "# Group B (Test Group): Plans with ZipCode = 'ZipCode_B'\n",
    "test_group_zipcode = df[df['PostalCode'] == '7784']\n",
    "\n",
    "# Perform t-test\n",
    "t_statistic, p_value = stats.ttest_ind(control_group_zipcode['ProfitMargin'], test_group_zipcode['ProfitMargin'])\n",
    "\n",
    "# Print results\n",
    "print(\"Hypothesis 3: Test significant margin (profit) difference between zip codes\")\n",
    "print(\"------------------------------------------------------------------------------\")\n",
    "print(f\"T-statistic: {t_statistic}\")\n",
    "print(f\"P-value: {p_value}\")\n",
    "\n",
    "# Analyze p-value\n",
    "if p_value < alpha:\n",
    "    print(\"Reject Null Hypothesis: There are significant margin (profit) differences between zip codes.\")\n",
    "else:\n",
    "    print(\"Fail to reject Null Hypothesis: There are no significant margin (profit) differences between zip codes.\")"
   ]
  },
  {
   "cell_type": "markdown",
   "metadata": {},
   "source": [
    "##### Hypothesis 4: Test significant margin (profit) differences between zip codes"
   ]
  },
  {
   "cell_type": "code",
   "execution_count": 9,
   "metadata": {},
   "outputs": [
    {
     "name": "stdout",
     "output_type": "stream",
     "text": [
      "Hypothesis 4: Test significant risk differences between Women and Men\n",
      "-----------------------------------------------------------------------\n",
      "T-statistic: -5.118420932688848\n",
      "P-value: 3.0925282750010697e-07\n",
      "Reject Null Hypothesis: There are significant risk differences between Women and Men.\n"
     ]
    }
   ],
   "source": [
    "# Let's segment the data based on the feature we want to test. \n",
    "# For example, if we want to test the impact of Gender on TotalPremium:\n",
    "# Group A (Control Group): Plans with Gender = 'Male'\n",
    "control_group_gender = df[df['Gender'] == 'Male']\n",
    "# Group B (Test Group): Plans with Gender = 'Female'\n",
    "test_group_gender = df[df['Gender'] == 'Female']\n",
    "\n",
    "# Perform t-test\n",
    "t_statistic, p_value = stats.ttest_ind(control_group_gender['TotalPremium'], test_group_gender['TotalPremium'])\n",
    "\n",
    "# Print results\n",
    "print(\"Hypothesis 4: Test significant risk differences between Women and Men\")\n",
    "print(\"-----------------------------------------------------------------------\")\n",
    "print(f\"T-statistic: {t_statistic}\")\n",
    "print(f\"P-value: {p_value}\")\n",
    "\n",
    "# Analyze p-value\n",
    "if p_value < alpha:\n",
    "    print(\"Reject Null Hypothesis: There are significant risk differences between Women and Men.\")\n",
    "else:\n",
    "    print(\"Fail to reject Null Hypothesis: There are no significant risk differences between Women and Men.\")"
   ]
  }
 ],
 "metadata": {
  "kernelspec": {
   "display_name": "Python 3",
   "language": "python",
   "name": "python3"
  },
  "language_info": {
   "codemirror_mode": {
    "name": "ipython",
    "version": 3
   },
   "file_extension": ".py",
   "mimetype": "text/x-python",
   "name": "python",
   "nbconvert_exporter": "python",
   "pygments_lexer": "ipython3",
   "version": "3.10.12"
  }
 },
 "nbformat": 4,
 "nbformat_minor": 2
}
